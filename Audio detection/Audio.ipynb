{
 "cells": [
  {
   "cell_type": "code",
   "execution_count": 2,
   "id": "da7ab870",
   "metadata": {},
   "outputs": [],
   "source": [
    "import pyttsx3\n",
    "import numpy as np\n",
    "import matplotlib.pyplot as plt"
   ]
  },
  {
   "cell_type": "code",
   "execution_count": 4,
   "id": "bb94d8cc",
   "metadata": {},
   "outputs": [],
   "source": [
    "engine = pyttsx3.init()\n",
    "voice = engine.getProperty(\"voices\")\n",
    "engine.setProperty(\"voices\", voice[0].id)\n",
    "rate = engine.getProperty(\"rate\")\n",
    "engine.setProperty(\"voices\", 200)"
   ]
  },
  {
   "cell_type": "code",
   "execution_count": 10,
   "id": "186322e2",
   "metadata": {},
   "outputs": [],
   "source": [
    "def talk(audio):\n",
    "    engine.say(audio)\n",
    "    engine.runAndWait()\n",
    "talk(\"Welcome to computer vision\")    "
   ]
  },
  {
   "cell_type": "code",
   "execution_count": null,
   "id": "8e3113de",
   "metadata": {},
   "outputs": [],
   "source": []
  },
  {
   "cell_type": "code",
   "execution_count": null,
   "id": "3168772f",
   "metadata": {},
   "outputs": [],
   "source": []
  }
 ],
 "metadata": {
  "kernelspec": {
   "display_name": "Python 3 (ipykernel)",
   "language": "python",
   "name": "python3"
  },
  "language_info": {
   "codemirror_mode": {
    "name": "ipython",
    "version": 3
   },
   "file_extension": ".py",
   "mimetype": "text/x-python",
   "name": "python",
   "nbconvert_exporter": "python",
   "pygments_lexer": "ipython3",
   "version": "3.9.12"
  }
 },
 "nbformat": 4,
 "nbformat_minor": 5
}
