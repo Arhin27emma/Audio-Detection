{
 "cells": [
  {
   "cell_type": "markdown",
   "id": "01e51919",
   "metadata": {},
   "source": [
    "# Audio Preprocessing\n",
    "\n",
    "# Text to Speech"
   ]
  },
  {
   "cell_type": "code",
   "execution_count": 1,
   "id": "cdf4c64e",
   "metadata": {},
   "outputs": [],
   "source": [
    "import numpy as np\n",
    "import pyttsx3\n",
    "import matplotlib.pyplot as plt"
   ]
  },
  {
   "cell_type": "code",
   "execution_count": 2,
   "id": "a9e6d96a",
   "metadata": {},
   "outputs": [],
   "source": [
    "engine = pyttsx3.init()\n",
    "voice = engine.getProperty('voices')\n",
    "engine.setProperty(\"voice\",voice[0].id)\n",
    "rate = engine.getProperty('rate')\n",
    "engine .setProperty(\"voice\",20)\n",
    "engine.save_to_file('Hello World' , 'test.mp3')"
   ]
  },
  {
   "cell_type": "code",
   "execution_count": 3,
   "id": "c2d11816",
   "metadata": {},
   "outputs": [],
   "source": [
    "def talk (audio):\n",
    "    engine.say(audio)\n",
    "    engine.runAndWait()\n",
    "talk('Welcome To Computer Vision')    "
   ]
  },
  {
   "cell_type": "code",
   "execution_count": null,
   "id": "b00ff96d",
   "metadata": {},
   "outputs": [],
   "source": []
  }
 ],
 "metadata": {
  "kernelspec": {
   "display_name": "Python 3 (ipykernel)",
   "language": "python",
   "name": "python3"
  },
  "language_info": {
   "codemirror_mode": {
    "name": "ipython",
    "version": 3
   },
   "file_extension": ".py",
   "mimetype": "text/x-python",
   "name": "python",
   "nbconvert_exporter": "python",
   "pygments_lexer": "ipython3",
   "version": "3.9.12"
  }
 },
 "nbformat": 4,
 "nbformat_minor": 5
}
