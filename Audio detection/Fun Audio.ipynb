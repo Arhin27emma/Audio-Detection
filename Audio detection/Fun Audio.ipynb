{
 "cells": [
  {
   "cell_type": "code",
   "execution_count": 1,
   "id": "4dae8062",
   "metadata": {},
   "outputs": [],
   "source": [
    "import pandas as pd \n",
    "import numpy as np\n",
    "import pyttsx3"
   ]
  },
  {
   "cell_type": "code",
   "execution_count": 2,
   "id": "7b8204b2",
   "metadata": {},
   "outputs": [],
   "source": [
    "engine = pyttsx3.init()\n",
    "voice = engine.getProperty('voices')\n",
    "engine.setProperty('voices', voice[0].id)\n",
    "rate = engine.getProperty('rate')\n",
    "engine.setProperty('voices', 200)"
   ]
  },
  {
   "cell_type": "code",
   "execution_count": 5,
   "id": "18e9f562",
   "metadata": {},
   "outputs": [],
   "source": [
    "def talk(audio):\n",
    "    engine.say(audio)\n",
    "    engine.runAndWait()\n",
    "talk('I am Emmanuel Arhinful, I am part of the AI club')    "
   ]
  },
  {
   "cell_type": "code",
   "execution_count": null,
   "id": "b1df3aed",
   "metadata": {},
   "outputs": [],
   "source": []
  }
 ],
 "metadata": {
  "kernelspec": {
   "display_name": "Python 3 (ipykernel)",
   "language": "python",
   "name": "python3"
  },
  "language_info": {
   "codemirror_mode": {
    "name": "ipython",
    "version": 3
   },
   "file_extension": ".py",
   "mimetype": "text/x-python",
   "name": "python",
   "nbconvert_exporter": "python",
   "pygments_lexer": "ipython3",
   "version": "3.9.12"
  }
 },
 "nbformat": 4,
 "nbformat_minor": 5
}
